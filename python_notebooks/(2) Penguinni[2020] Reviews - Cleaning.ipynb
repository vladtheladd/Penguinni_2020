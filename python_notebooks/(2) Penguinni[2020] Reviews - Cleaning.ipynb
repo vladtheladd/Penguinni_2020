{
 "cells": [
  {
   "cell_type": "markdown",
   "metadata": {},
   "source": [
    "![penguinni_logo](default.png)\n",
    "___"
   ]
  },
  {
   "cell_type": "markdown",
   "metadata": {},
   "source": [
    "# Step 2 - Preprocessing & Cleaning\n",
    "    a) Importing data\n",
    "    \n",
    "    b) Duplicate and Missing Data\n",
    "     \n",
    "    c) Evaluate data\n",
    "            - Combine all reviews\n",
    "   \n",
    "   "
   ]
  },
  {
   "cell_type": "markdown",
   "metadata": {},
   "source": [
    "### a) Importing data\n",
    "##### Use 'amazon_data.csv' to begin cleaning"
   ]
  },
  {
   "cell_type": "code",
   "execution_count": 1,
   "metadata": {},
   "outputs": [],
   "source": [
    "import pandas as pd\n",
    "import numpy as np\n",
    "\n",
    "#import .csv file\n",
    "raw_penguinni_df = pd.read_csv(\"penguinni_reviews.csv\")\n",
    "raw_penguinni_df.drop(['Unnamed: 0'], axis=1, inplace=True)"
   ]
  },
  {
   "cell_type": "code",
   "execution_count": 2,
   "metadata": {},
   "outputs": [
    {
     "name": "stdout",
     "output_type": "stream",
     "text": [
      "review-page-1.reviews    object\n",
      "review-page-2.reviews    object\n",
      "review-page-3.reviews    object\n",
      "review-page-4.reviews    object\n",
      "review-page-5.reviews    object\n",
      "review-page-6.reviews    object\n",
      "review-page-7.reviews    object\n",
      "review-page-8.reviews    object\n",
      "review-page-9.reviews    object\n",
      "dtype: object\n",
      "(1, 9)\n"
     ]
    },
    {
     "data": {
      "text/html": [
       "<div>\n",
       "<style scoped>\n",
       "    .dataframe tbody tr th:only-of-type {\n",
       "        vertical-align: middle;\n",
       "    }\n",
       "\n",
       "    .dataframe tbody tr th {\n",
       "        vertical-align: top;\n",
       "    }\n",
       "\n",
       "    .dataframe thead th {\n",
       "        text-align: right;\n",
       "    }\n",
       "</style>\n",
       "<table border=\"1\" class=\"dataframe\">\n",
       "  <thead>\n",
       "    <tr style=\"text-align: right;\">\n",
       "      <th></th>\n",
       "      <th>review-page-1.reviews</th>\n",
       "      <th>review-page-2.reviews</th>\n",
       "      <th>review-page-3.reviews</th>\n",
       "      <th>review-page-4.reviews</th>\n",
       "      <th>review-page-5.reviews</th>\n",
       "      <th>review-page-6.reviews</th>\n",
       "      <th>review-page-7.reviews</th>\n",
       "      <th>review-page-8.reviews</th>\n",
       "      <th>review-page-9.reviews</th>\n",
       "    </tr>\n",
       "  </thead>\n",
       "  <tbody>\n",
       "    <tr>\n",
       "      <td>0</td>\n",
       "      <td>[{'body': 'I would like to state that these cu...</td>\n",
       "      <td>[{'body': \"Definitely make sure the lid is dry...</td>\n",
       "      <td>[{'body': 'These cups are leak proof and perfe...</td>\n",
       "      <td>[{'body': 'Love these cups and my kids do too!...</td>\n",
       "      <td>[{'body': 'These are great! You do need to hol...</td>\n",
       "      <td>[{'body': 'These sippy cups are convenient and...</td>\n",
       "      <td>[{'body': 'These are perfect- our girl did not...</td>\n",
       "      <td>[{'body': 'I just love them, I would highly re...</td>\n",
       "      <td>[{'body': 'Great quality', 'date': 'Reviewed i...</td>\n",
       "    </tr>\n",
       "  </tbody>\n",
       "</table>\n",
       "</div>"
      ],
      "text/plain": [
       "                               review-page-1.reviews  \\\n",
       "0  [{'body': 'I would like to state that these cu...   \n",
       "\n",
       "                               review-page-2.reviews  \\\n",
       "0  [{'body': \"Definitely make sure the lid is dry...   \n",
       "\n",
       "                               review-page-3.reviews  \\\n",
       "0  [{'body': 'These cups are leak proof and perfe...   \n",
       "\n",
       "                               review-page-4.reviews  \\\n",
       "0  [{'body': 'Love these cups and my kids do too!...   \n",
       "\n",
       "                               review-page-5.reviews  \\\n",
       "0  [{'body': 'These are great! You do need to hol...   \n",
       "\n",
       "                               review-page-6.reviews  \\\n",
       "0  [{'body': 'These sippy cups are convenient and...   \n",
       "\n",
       "                               review-page-7.reviews  \\\n",
       "0  [{'body': 'These are perfect- our girl did not...   \n",
       "\n",
       "                               review-page-8.reviews  \\\n",
       "0  [{'body': 'I just love them, I would highly re...   \n",
       "\n",
       "                               review-page-9.reviews  \n",
       "0  [{'body': 'Great quality', 'date': 'Reviewed i...  "
      ]
     },
     "execution_count": 2,
     "metadata": {},
     "output_type": "execute_result"
    }
   ],
   "source": [
    "#check datatypes\n",
    "print(raw_penguinni_df.dtypes)\n",
    "print(raw_penguinni_df.shape)\n",
    "raw_penguinni_df.head(1)"
   ]
  },
  {
   "cell_type": "markdown",
   "metadata": {},
   "source": [
    "### b) Duplicate and Missing Data"
   ]
  },
  {
   "cell_type": "code",
   "execution_count": 4,
   "metadata": {},
   "outputs": [
    {
     "name": "stdout",
     "output_type": "stream",
     "text": [
      "dataframe shape:  (1, 9)\n",
      "number of duplicate rows:  (0, 9)\n"
     ]
    }
   ],
   "source": [
    "#total number of rows and columns\n",
    "print('dataframe shape: ', raw_penguinni_df.shape)\n",
    "\n",
    "#rows containing duplicate data\n",
    "duplicate_rows_df = raw_penguinni_df[raw_penguinni_df.duplicated()]\n",
    "\n",
    "print('number of duplicate rows: ', duplicate_rows_df.shape)"
   ]
  },
  {
   "cell_type": "code",
   "execution_count": 6,
   "metadata": {},
   "outputs": [
    {
     "name": "stdout",
     "output_type": "stream",
     "text": [
      "review-page-1.reviews    0\n",
      "review-page-2.reviews    0\n",
      "review-page-3.reviews    0\n",
      "review-page-4.reviews    0\n",
      "review-page-5.reviews    0\n",
      "review-page-6.reviews    0\n",
      "review-page-7.reviews    0\n",
      "review-page-8.reviews    0\n",
      "review-page-9.reviews    0\n",
      "dtype: int64\n"
     ]
    }
   ],
   "source": [
    "#finding the null values\n",
    "print(raw_penguinni_df.isnull().sum())"
   ]
  },
  {
   "cell_type": "code",
   "execution_count": 7,
   "metadata": {},
   "outputs": [
    {
     "name": "stdout",
     "output_type": "stream",
     "text": [
      "review-page-1.reviews    0\n",
      "review-page-2.reviews    0\n",
      "review-page-3.reviews    0\n",
      "review-page-4.reviews    0\n",
      "review-page-5.reviews    0\n",
      "review-page-6.reviews    0\n",
      "review-page-7.reviews    0\n",
      "review-page-8.reviews    0\n",
      "review-page-9.reviews    0\n",
      "dtype: int64\n",
      "(1, 9)\n"
     ]
    }
   ],
   "source": [
    "#locate NaN\n",
    "is_NaN = raw_penguinni_df.isna()\n",
    "row_has_NaN = raw_penguinni_df.any(axis=1)\n",
    "rows_with_NaN = raw_penguinni_df[row_has_NaN]\n",
    "\n",
    "#remove NaN\n",
    "raw_penguinni_df = raw_penguinni_df.dropna()\n",
    "print(raw_penguinni_df.isna().sum())\n",
    "print(raw_penguinni_df.shape)\n",
    "\n",
    "#reset index\n",
    "raw_penguinni_df.reset_index(drop=True,inplace=True)"
   ]
  },
  {
   "cell_type": "markdown",
   "metadata": {},
   "source": [
    "### c) Evaluate Data"
   ]
  },
  {
   "cell_type": "markdown",
   "metadata": {},
   "source": [
    "##### Combining 'Review Text' and 'Summary' columns"
   ]
  },
  {
   "cell_type": "code",
   "execution_count": 9,
   "metadata": {},
   "outputs": [],
   "source": [
    "raw_penguinni_df['total_review'] = raw_penguinni_df[['review-page-1.reviews', \n",
    "                                                     'review-page-2.reviews',\n",
    "                                                     'review-page-3.reviews',\n",
    "                                                     'review-page-4.reviews',\n",
    "                                                     'review-page-5.reviews',\n",
    "                                                     'review-page-6.reviews',\n",
    "                                                     'review-page-7.reviews',\n",
    "                                                     'review-page-8.reviews',\n",
    "                                                     'review-page-9.reviews']].apply(' '.join, axis=1)"
   ]
  },
  {
   "cell_type": "code",
   "execution_count": 10,
   "metadata": {},
   "outputs": [
    {
     "data": {
      "text/plain": [
       "0    [{'body': 'I would like to state that these cu...\n",
       "Name: total_review, dtype: object"
      ]
     },
     "execution_count": 10,
     "metadata": {},
     "output_type": "execute_result"
    }
   ],
   "source": [
    "raw_penguinni_df['total_review']"
   ]
  },
  {
   "cell_type": "markdown",
   "metadata": {},
   "source": [
    "### End of Step 2\n"
   ]
  },
  {
   "cell_type": "code",
   "execution_count": 11,
   "metadata": {},
   "outputs": [],
   "source": [
    "#write raw_amazon_df to a .csv\n",
    "raw_penguinni_df.to_csv('cleaned_penguinni_data.csv')"
   ]
  },
  {
   "cell_type": "code",
   "execution_count": null,
   "metadata": {},
   "outputs": [],
   "source": []
  }
 ],
 "metadata": {
  "kernelspec": {
   "display_name": "Python 3",
   "language": "python",
   "name": "python3"
  },
  "language_info": {
   "codemirror_mode": {
    "name": "ipython",
    "version": 3
   },
   "file_extension": ".py",
   "mimetype": "text/x-python",
   "name": "python",
   "nbconvert_exporter": "python",
   "pygments_lexer": "ipython3",
   "version": "3.7.4"
  }
 },
 "nbformat": 4,
 "nbformat_minor": 2
}
